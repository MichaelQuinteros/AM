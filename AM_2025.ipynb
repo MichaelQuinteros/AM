{
  "nbformat": 4,
  "nbformat_minor": 0,
  "metadata": {
    "colab": {
      "provenance": []
    },
    "kernelspec": {
      "name": "python3",
      "display_name": "Python 3"
    },
    "language_info": {
      "name": "python"
    }
  },
  "cells": [
    {
      "cell_type": "code",
      "source": [
        "!pip install python-docx\n",
        "!apt-get update\n",
        "!apt-get install libreoffice # Removed extra spaces before this line"
      ],
      "metadata": {
        "colab": {
          "base_uri": "https://localhost:8080/"
        },
        "id": "SfFtNoM18348",
        "outputId": "bc106c4a-4ec7-446c-c116-a5c01a2198d7"
      },
      "execution_count": 2,
      "outputs": [
        {
          "output_type": "stream",
          "name": "stdout",
          "text": [
            "Requirement already satisfied: python-docx in /usr/local/lib/python3.11/dist-packages (1.1.2)\n",
            "Requirement already satisfied: lxml>=3.1.0 in /usr/local/lib/python3.11/dist-packages (from python-docx) (5.3.1)\n",
            "Requirement already satisfied: typing-extensions>=4.9.0 in /usr/local/lib/python3.11/dist-packages (from python-docx) (4.12.2)\n",
            "Hit:1 https://developer.download.nvidia.com/compute/cuda/repos/ubuntu2204/x86_64  InRelease\n",
            "Hit:2 https://cloud.r-project.org/bin/linux/ubuntu jammy-cran40/ InRelease\n",
            "Hit:3 http://security.ubuntu.com/ubuntu jammy-security InRelease\n",
            "Hit:4 https://r2u.stat.illinois.edu/ubuntu jammy InRelease\n",
            "Hit:5 http://archive.ubuntu.com/ubuntu jammy InRelease\n",
            "Hit:6 http://archive.ubuntu.com/ubuntu jammy-updates InRelease\n",
            "Hit:7 http://archive.ubuntu.com/ubuntu jammy-backports InRelease\n",
            "Hit:8 https://ppa.launchpadcontent.net/deadsnakes/ppa/ubuntu jammy InRelease\n",
            "Hit:9 https://ppa.launchpadcontent.net/graphics-drivers/ppa/ubuntu jammy InRelease\n",
            "Hit:10 https://ppa.launchpadcontent.net/ubuntugis/ppa/ubuntu jammy InRelease\n",
            "Reading package lists... Done\n",
            "W: Skipping acquire of configured file 'main/source/Sources' as repository 'https://r2u.stat.illinois.edu/ubuntu jammy InRelease' does not seem to provide it (sources.list entry misspelt?)\n",
            "Reading package lists... Done\n",
            "Building dependency tree... Done\n",
            "Reading state information... Done\n",
            "libreoffice is already the newest version (1:7.3.7-0ubuntu0.22.04.9).\n",
            "0 upgraded, 0 newly installed, 0 to remove and 29 not upgraded.\n"
          ]
        }
      ]
    },
    {
      "cell_type": "code",
      "source": [
        "import pandas as pd\n",
        "import platform\n",
        "import subprocess\n",
        "import shutil\n",
        "from docx import Document\n",
        "from docx.shared import Cm\n",
        "\n",
        "# ... (rest of your code remains the same)\n",
        "\n",
        "import pandas as pd\n",
        "import platform\n",
        "import subprocess\n",
        "import shutil\n",
        "from docx import Document\n",
        "from docx.shared import Cm\n",
        "\n",
        "def extract_data_from_excels(excel_files, distrito, provincia, departamento):\n",
        "    data_by_file = {}\n",
        "    for excel_file in excel_files:\n",
        "        try:\n",
        "            df = pd.read_excel(excel_file)\n",
        "            required_cols = {'Distrito', 'Provincia', 'Departamento'}\n",
        "            if not required_cols.issubset(df.columns):\n",
        "                print(f\"Advertencia: {excel_file} no contiene todas las columnas requeridas {required_cols}\")\n",
        "                continue\n",
        "\n",
        "            df_filtered = df[(df['Distrito'].str.lower() == distrito.lower()) &\n",
        "                             (df['Provincia'].str.lower() == provincia.lower()) &\n",
        "                             (df['Departamento'].str.lower() == departamento.lower())]\n",
        "            data_by_file[excel_file] = df_filtered\n",
        "        except Exception as e:\n",
        "            print(f\"Error procesando {excel_file}: {e}\")\n",
        "    return data_by_file\n",
        "\n",
        "def replace_text_in_document(doc, replacements):\n",
        "    for paragraph in doc.paragraphs:\n",
        "        for key, value in replacements.items():\n",
        "            if key in paragraph.text:\n",
        "                paragraph.text = paragraph.text.replace(key, value)\n",
        "\n",
        "    for table in doc.tables:\n",
        "        for row in table.rows:\n",
        "            for cell in row.cells:\n",
        "                for key, value in replacements.items():\n",
        "                    if key in cell.text:\n",
        "                        cell.text = cell.text.replace(key, value)\n",
        "\n",
        "def insert_table(doc, data, title):\n",
        "    doc.add_paragraph(f\"\\n\\n**{title}:**\")\n",
        "    table = doc.add_table(rows=1, cols=len(data.columns) + 1)\n",
        "    table.style = 'Table Grid'\n",
        "    hdr_cells = table.rows[0].cells\n",
        "    hdr_cells[0].text = \"Nro.\"\n",
        "    hdr_cells[0].width = Cm(0.83)\n",
        "\n",
        "    for i, column_name in enumerate(data.columns):\n",
        "        hdr_cells[i + 1].text = column_name\n",
        "\n",
        "    for idx, (_, row) in enumerate(data.iterrows(), start=1):\n",
        "        row_cells = table.add_row().cells\n",
        "        row_cells[0].text = str(idx)\n",
        "        row_cells[0].width = Cm(0.83)\n",
        "        for i, value in enumerate(row):\n",
        "            row_cells[i + 1].text = str(value)\n",
        "\n",
        "def convert_to_pdf(input_docx, output_pdf):\n",
        "    system_os = platform.system()\n",
        "\n",
        "    try:\n",
        "        if system_os == \"Windows\":\n",
        "            from docx2pdf import convert\n",
        "            convert(input_docx)\n",
        "        elif system_os in [\"Linux\", \"Darwin\"]:\n",
        "            libreoffice_path = shutil.which(\"libreoffice\") or shutil.which(\"soffice\")\n",
        "            if libreoffice_path:\n",
        "                subprocess.run([libreoffice_path, \"--headless\", \"--convert-to\", \"pdf\", input_docx])\n",
        "            else:\n",
        "                print(\"Error: LibreOffice no está instalado o no se encuentra en la ruta del sistema.\")\n",
        "    except Exception as e:\n",
        "        print(f\"Error en la conversión a PDF: {e}\")\n",
        "\n",
        "def generate_final_docx(output_docx, output_pdf, plantilla_docx, distrito, provincia, departamento, tables_by_file):\n",
        "    doc = Document(plantilla_docx)\n",
        "\n",
        "    selected_columns = ['PobrezaMonetaria', 'CCPP', 'Poblacion', 'Hogares', 'Viviendas', 'UnidadTerritorial']\n",
        "    data_dict = {col: 'N/A' for col in selected_columns}\n",
        "\n",
        "    if \"datos1.xlsx\" in tables_by_file and not tables_by_file[\"datos1.xlsx\"].empty:\n",
        "        data_dict.update(tables_by_file[\"datos1.xlsx\"][selected_columns].iloc[0].to_dict())\n",
        "\n",
        "    focalizado, seleccionado, mejorando, social = \"NO\", \"NO\", \"NO\", \"NO\"\n",
        "    total_centros_poblados = \"0\"\n",
        "    centros_poblados_df, infraestructura_social_df = pd.DataFrame(), pd.DataFrame()\n",
        "\n",
        "    if \"datos2.xlsx\" in tables_by_file:\n",
        "        table_cp = tables_by_file[\"datos2.xlsx\"]\n",
        "        if not table_cp.empty and all(col in table_cp.columns for col in ['Provincia', 'Distrito', 'CentroPoblado']):\n",
        "            table_cp_filtered = table_cp[table_cp['Distrito'].str.lower() == distrito.lower()]\n",
        "            focalizado = \"SI\" if not table_cp_filtered.empty else \"NO\"\n",
        "            total_centros_poblados = str(len(table_cp_filtered))\n",
        "            centros_poblados_df = table_cp_filtered[['Provincia', 'Distrito', 'CentroPoblado']]\n",
        "\n",
        "    if \"datos3.xlsx\" in tables_by_file and 'Distrito' in tables_by_file[\"datos3.xlsx\"]:\n",
        "        seleccionado = \"SI\" if distrito.lower() in tables_by_file[\"datos3.xlsx\"]['Distrito'].str.lower().values else \"NO\"\n",
        "\n",
        "    if \"datos4.xlsx\" in tables_by_file and 'Distrito' in tables_by_file[\"datos4.xlsx\"]:\n",
        "        mejorando = \"SI\" if distrito.lower() in tables_by_file[\"datos4.xlsx\"]['Distrito'].str.lower().values else \"NO\"\n",
        "\n",
        "    if \"datos5.xlsx\" in tables_by_file:\n",
        "        table_soc = tables_by_file[\"datos5.xlsx\"]\n",
        "        if not table_soc.empty and all(col in table_soc.columns for col in ['Provincia', 'Distrito', 'CentroPoblado']):\n",
        "            social = \"SI\"\n",
        "            infraestructura_social_df = table_soc[['Provincia', 'Distrito', 'CentroPoblado']]\n",
        "\n",
        "    replacements = {\n",
        "        \"{Distrito}\": distrito,\n",
        "        \"{Provincia}\": provincia,\n",
        "        \"{Departamento}\": departamento,\n",
        "        \"{PobrezaMonetaria}\": str(data_dict.get(\"PobrezaMonetaria\", \"N/A\")),\n",
        "        \"{CCPP}\": str(data_dict.get(\"CCPP\", \"N/A\")),\n",
        "        \"{Poblacion}\": str(data_dict.get(\"Poblacion\", \"N/A\")),\n",
        "        \"{Hogares}\": str(data_dict.get(\"Hogares\", \"N/A\")),\n",
        "        \"{Viviendas}\": str(data_dict.get(\"Viviendas\", \"N/A\")),\n",
        "        \"{UnidadTerritorial}\": str(data_dict.get(\"UnidadTerritorial\", \"N/A\")),\n",
        "        \"{Focalizado}\": focalizado,\n",
        "        \"{Seleccionado}\": seleccionado,\n",
        "        \"{Mejorando}\": mejorando,\n",
        "        \"{Social}\": social,\n",
        "        \"{TotalCentrosPoblados}\": total_centros_poblados\n",
        "    }\n",
        "    replace_text_in_document(doc, replacements)\n",
        "\n",
        "    if focalizado == \"SI\" and not centros_poblados_df.empty:\n",
        "        insert_table(doc, centros_poblados_df, \"Lista de Población Objetivo 2025\")\n",
        "\n",
        "    if social == \"SI\" and not infraestructura_social_df.empty:\n",
        "        insert_table(doc, infraestructura_social_df, \"Lista de Infraestructura Social\")\n",
        "\n",
        "    doc.save(output_docx)\n",
        "    convert_to_pdf(output_docx, output_pdf)\n",
        "\n",
        "distrito = \"CORANI\"\n",
        "provincia = \"CARABAYA\"\n",
        "departamento = \"PUNO\"\n",
        "excel_files = [\"datos1.xlsx\", \"datos2.xlsx\", \"datos3.xlsx\", \"datos4.xlsx\", \"datos5.xlsx\"]\n",
        "plantilla_docx = \"plantilla.docx\"\n",
        "output_docx = f\"AyudaMemoria_{distrito}.docx\"\n",
        "output_pdf = f\"AyudaMemoria_{distrito}.pdf\"\n",
        "\n",
        "tables_by_file = extract_data_from_excels(excel_files, distrito, provincia, departamento)\n",
        "generate_final_docx(output_docx, output_pdf, plantilla_docx, distrito, provincia, departamento, tables_by_file)\n",
        "\n",
        "print(f\"Informe generado: {output_docx} y convertido a {output_pdf}\")\n"
      ],
      "metadata": {
        "colab": {
          "base_uri": "https://localhost:8080/"
        },
        "id": "H_duB_H_G7Uq",
        "outputId": "e1574926-8880-42d4-c1d1-f4d3bf129589"
      },
      "execution_count": 7,
      "outputs": [
        {
          "output_type": "stream",
          "name": "stdout",
          "text": [
            "Informe generado: AyudaMemoria_CORANI.docx y convertido a AyudaMemoria_CORANI.pdf\n"
          ]
        }
      ]
    },
    {
      "cell_type": "markdown",
      "source": [
        "ANTERIOR CODIGO OK"
      ],
      "metadata": {
        "id": "XNzj0BciGeyX"
      }
    },
    {
      "cell_type": "code",
      "source": [],
      "metadata": {
        "id": "G8SmrdCJr08H"
      },
      "execution_count": null,
      "outputs": []
    }
  ]
}